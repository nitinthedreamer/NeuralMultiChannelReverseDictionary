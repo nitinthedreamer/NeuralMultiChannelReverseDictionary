#Using @article{zhang2019multi
#    title={Multi-channel Reverse Dictionary Model},
#    author={Zhang, Lei and Qi, Fanchao and Liu, Zhiyuan and Wang, Yasheng and Liu, Qun and Sun, Maosong},
#    journal={arXiv preprint arXiv:1912.08441},
#  	year={2019}
#}

