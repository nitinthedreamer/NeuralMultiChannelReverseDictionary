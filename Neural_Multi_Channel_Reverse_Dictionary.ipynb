{
  "nbformat": 4,
  "nbformat_minor": 0,
  "metadata": {
    "colab": {
      "name": "Neural Multi Channel Reverse Dictionary.ipynb",
      "provenance": [],
      "authorship_tag": "ABX9TyO3dy2shs5TU+ugN+/GFPg/",
      "include_colab_link": true
    },
    "kernelspec": {
      "name": "python3",
      "display_name": "Python 3"
    },
    "language_info": {
      "name": "python"
    },
    "accelerator": "GPU"
  },
  "cells": [
    {
      "cell_type": "markdown",
      "metadata": {
        "id": "view-in-github",
        "colab_type": "text"
      },
      "source": [
        "<a href=\"https://colab.research.google.com/github/nitinthedreamer/NeuralMultiChannelReverseDictionary/blob/master/Neural_Multi_Channel_Reverse_Dictionary.ipynb\" target=\"_parent\"><img src=\"https://colab.research.google.com/assets/colab-badge.svg\" alt=\"Open In Colab\"/></a>"
      ]
    },
    {
      "cell_type": "code",
      "execution_count": 1,
      "metadata": {
        "id": "aStCn1Sqsogv",
        "colab": {
          "base_uri": "https://localhost:8080/"
        },
        "outputId": "e469ad5b-586a-410f-daac-14a0fda5d91f"
      },
      "outputs": [
        {
          "output_type": "stream",
          "name": "stdout",
          "text": [
            "Mounted at /content/drive\n"
          ]
        }
      ],
      "source": [
        "from google.colab import drive\n",
        "ROOT = '/content/drive'\n",
        "drive.mount(ROOT, force_remount=True)"
      ]
    },
    {
      "cell_type": "code",
      "source": [
        "import torch\n",
        "\n",
        "# If there's a GPU available...\n",
        "if torch.cuda.is_available():    \n",
        "\n",
        "    # Tell PyTorch to use the GPU.    \n",
        "    device = torch.device(\"cuda\")\n",
        "\n",
        "    print('There are %d GPU(s) available.' % torch.cuda.device_count())\n",
        "\n",
        "    print('We will use the GPU:', torch.cuda.get_device_name(0))\n",
        "\n",
        "# If not...\n",
        "else:\n",
        "    print('No GPU available, using the CPU instead.')\n",
        "    device = torch.device(\"cpu\")"
      ],
      "metadata": {
        "colab": {
          "base_uri": "https://localhost:8080/"
        },
        "id": "JR2SmTL3sVKB",
        "outputId": "85956b91-79c7-41d9-e0d7-22163f0cea9d"
      },
      "execution_count": 2,
      "outputs": [
        {
          "output_type": "stream",
          "name": "stdout",
          "text": [
            "There are 1 GPU(s) available.\n",
            "We will use the GPU: Tesla P100-PCIE-16GB\n"
          ]
        }
      ]
    },
    {
      "cell_type": "code",
      "source": [
        "from os.path import join  \n",
        "\n",
        "#Ensure the required path is created in google drive\n",
        "\n",
        "# path to your project on Google Drive\n",
        "MY_GOOGLE_DRIVE_PATH = 'MyDrive/Colab/Github/' \n",
        "# replace with your Github username \n",
        "GIT_USERNAME = \"\" \n",
        "# definitely replace with your\n",
        "GIT_TOKEN = \"\"  \n",
        "# Replace with your github repository in this case we want \n",
        "GIT_REPOSITORY = \"NeuralMultiChannelReverseDictionary\"\n",
        "\n",
        "PROJECT_PATH = join(ROOT, MY_GOOGLE_DRIVE_PATH)\n",
        "print(\"PROJECT_PATH: \", PROJECT_PATH)   \n",
        "!mkdir \"{PROJECT_PATH}\"    \n",
        "GIT_PATH = \"https://\" + GIT_TOKEN + \"@github.com/\" + GIT_USERNAME + \"/\" + GIT_REPOSITORY + \".git\"\n",
        "print(\"GIT_PATH: \", GIT_PATH)"
      ],
      "metadata": {
        "id": "VFdMqp60sZoB"
      },
      "execution_count": null,
      "outputs": []
    },
    {
      "cell_type": "code",
      "source": [
        "%cd \"{PROJECT_PATH}\"\n",
        "!git clone \"{GIT_PATH}\""
      ],
      "metadata": {
        "colab": {
          "base_uri": "https://localhost:8080/"
        },
        "id": "jSbM5Q-psqBp",
        "outputId": "0e818d03-75c1-4b18-e0dd-b107d87d0c60"
      },
      "execution_count": 4,
      "outputs": [
        {
          "output_type": "stream",
          "name": "stdout",
          "text": [
            "/content/drive/MyDrive/Colab/Github\n",
            "fatal: destination path 'NeuralMultiChannelReverseDictionary' already exists and is not an empty directory.\n"
          ]
        }
      ]
    },
    {
      "cell_type": "code",
      "source": [
        "!pip install torch==1.6.0 torchvision==0.7.0"
      ],
      "metadata": {
        "colab": {
          "base_uri": "https://localhost:8080/"
        },
        "id": "Xof4RtPXyQz-",
        "outputId": "2045c6e8-624d-4fb1-d368-f6f1f572d4aa"
      },
      "execution_count": 5,
      "outputs": [
        {
          "output_type": "stream",
          "name": "stdout",
          "text": [
            "Requirement already satisfied: torch==1.6.0 in /usr/local/lib/python3.7/dist-packages (1.6.0)\n",
            "Requirement already satisfied: torchvision==0.7.0 in /usr/local/lib/python3.7/dist-packages (0.7.0)\n",
            "Requirement already satisfied: numpy in /usr/local/lib/python3.7/dist-packages (from torch==1.6.0) (1.21.5)\n",
            "Requirement already satisfied: future in /usr/local/lib/python3.7/dist-packages (from torch==1.6.0) (0.16.0)\n",
            "Requirement already satisfied: pillow>=4.1.1 in /usr/local/lib/python3.7/dist-packages (from torchvision==0.7.0) (7.1.2)\n"
          ]
        }
      ]
    },
    {
      "cell_type": "code",
      "source": [
        "!pip install numpy; \\\n",
        "pip install tqdm; \\\n",
        "pip install nltk; \\\n",
        "pip install gensim; \\\n",
        "pip install thulac"
      ],
      "metadata": {
        "colab": {
          "base_uri": "https://localhost:8080/"
        },
        "id": "BK3_QFFBuQSK",
        "outputId": "22256973-d1d9-469a-8fef-2acc5c21f934"
      },
      "execution_count": 6,
      "outputs": [
        {
          "output_type": "stream",
          "name": "stdout",
          "text": [
            "Requirement already satisfied: numpy in /usr/local/lib/python3.7/dist-packages (1.21.5)\n",
            "Requirement already satisfied: tqdm in /usr/local/lib/python3.7/dist-packages (4.63.0)\n",
            "Requirement already satisfied: nltk in /usr/local/lib/python3.7/dist-packages (3.2.5)\n",
            "Requirement already satisfied: six in /usr/local/lib/python3.7/dist-packages (from nltk) (1.15.0)\n",
            "Requirement already satisfied: gensim in /usr/local/lib/python3.7/dist-packages (3.6.0)\n",
            "Requirement already satisfied: smart-open>=1.2.1 in /usr/local/lib/python3.7/dist-packages (from gensim) (5.2.1)\n",
            "Requirement already satisfied: six>=1.5.0 in /usr/local/lib/python3.7/dist-packages (from gensim) (1.15.0)\n",
            "Requirement already satisfied: numpy>=1.11.3 in /usr/local/lib/python3.7/dist-packages (from gensim) (1.21.5)\n",
            "Requirement already satisfied: scipy>=0.18.1 in /usr/local/lib/python3.7/dist-packages (from gensim) (1.4.1)\n",
            "Requirement already satisfied: thulac in /usr/local/lib/python3.7/dist-packages (0.2.1)\n"
          ]
        }
      ]
    },
    {
      "cell_type": "code",
      "source": [
        "PROJECT_BASE_PATH = PROJECT_PATH + GIT_REPOSITORY\n",
        "\n",
        "print (\"PROJECT_BASE_PATH: \", PROJECT_BASE_PATH)"
      ],
      "metadata": {
        "colab": {
          "base_uri": "https://localhost:8080/"
        },
        "id": "hQFeaIDwu8ZO",
        "outputId": "9888e63e-37da-4c08-86a0-145e18d3b7e2"
      },
      "execution_count": 7,
      "outputs": [
        {
          "output_type": "stream",
          "name": "stdout",
          "text": [
            "PROJECT_BASE_PATH:  /content/drive/MyDrive/Colab/Github/NeuralMultiChannelReverseDictionary\n"
          ]
        }
      ]
    },
    {
      "cell_type": "markdown",
      "source": [
        "**Training**"
      ],
      "metadata": {
        "id": "UHz3KQ7Xw10Z"
      }
    },
    {
      "cell_type": "code",
      "source": [
        "!cd \"{PROJECT_BASE_PATH}/multi_rd/EnglishReverseDictionary/code/\" && python \"main.py\" -b 128 -e 10 -g 1 -sd 23523 -f 20 -m rsl -v"
      ],
      "metadata": {
        "colab": {
          "base_uri": "https://localhost:8080/"
        },
        "id": "IbUFdLBTvBvU",
        "outputId": "3fecdabd-4edb-498c-aabb-00b3ac55af8b"
      },
      "execution_count": null,
      "outputs": [
        {
          "output_type": "stream",
          "name": "stdout",
          "text": [
            "Loading dataset...\n",
            "target_words (include <PAD><OOV>):  50479\n",
            "label_lexname_size:  45\n",
            "label_sememe_size:  1379\n",
            "vocab (embeddings in use)(include <PAD><OOV>):  75101\n",
            "label_rootaffix_size:  342\n",
            "data_train size: 667481\n",
            "data_dev size: 75871\n",
            "data_test_seen size: 500\n",
            "data_test_unseen size: 500\n",
            "data_desc size: 200\n",
            "DataLoader prepared. Batch_size [128]\n",
            "Train dataset:  675675\n",
            "Valid dataset:  75871\n",
            "Test dataset:  1200\n",
            "epoch:  0\n",
            " 15% 781/5279 [00:59<06:00, 12.47it/s]"
          ]
        }
      ]
    }
  ]
}